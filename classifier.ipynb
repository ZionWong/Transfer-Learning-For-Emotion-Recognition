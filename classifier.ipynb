{
 "cells": [
  {
   "cell_type": "code",
   "execution_count": null,
   "metadata": {
    "collapsed": true
   },
   "outputs": [],
   "source": [
    "import tensorflow as tf\n",
    "import numpy as np\n",
    "import tensorflow.contrib.slim as slim\n",
    "import cPickle\n",
    "from sklearn.utils import  shuffle"
   ]
  },
  {
   "cell_type": "code",
   "execution_count": null,
   "metadata": {
    "collapsed": true
   },
   "outputs": [],
   "source": [
    "#获取训练与测试数据\n",
    "def get_data():\n",
    "    with open('./transfer_feature/train.pkl') as f:\n",
    "        train = cPickle.load(f)\n",
    "    with open('./transfer_feature/test.pkl') as f:\n",
    "        test = cPickle.load(f)\n",
    "    return train,test"
   ]
  },
  {
   "cell_type": "code",
   "execution_count": null,
   "metadata": {
    "collapsed": true
   },
   "outputs": [],
   "source": [
    "#构建分类器，此处是一个4层DNN\n",
    "def model(X):\n",
    "    fc1 = slim.fully_connected(X,512,normalizer_fn=slim.batch_norm,\\\n",
    "        activation_fn=tf.nn.relu,scope='fc1',weights_initializer=initializer)\n",
    "    fc2 = slim.fully_connected(fc1,1024,normalizer_fn=slim.batch_norm,\\\n",
    "        activation_fn=tf.nn.relu,scope='fc2',weights_initializer=initializer)\n",
    "    fc3 = slim.fully_connected(fc2,512,normalizer_fn=slim.batch_norm,\\\n",
    "        activation_fn=tf.nn.relu,scope='fc3',weights_initializer=initializer)\n",
    "    fc4 = slim.fully_connected(fc3,4,normalizer_fn=slim.batch_norm,\\\n",
    "        activation_fn=None,scope='fc4',weights_initializer=initializer)\n",
    "    return fc4"
   ]
  },
  {
   "cell_type": "code",
   "execution_count": null,
   "metadata": {
    "collapsed": true
   },
   "outputs": [],
   "source": [
    "train,test = get_data()\n",
    "\n",
    "X = tf.placeholder(\"float\", [None, 512])\n",
    "Y = tf.placeholder(\"int32\", [None])\n",
    "\n",
    "initializer = tf.contrib.layers.xavier_initializer()\n",
    "\n",
    "trX = train['data']\n",
    "trY = train['label']\n",
    "teX = test['data']\n",
    "teY = test['label']\n",
    "\n",
    "logits = model(X)\n",
    "entropy = tf.nn.sparse_softmax_cross_entropy_with_logits(labels=Y,logits=logits)\n",
    "\n",
    "cost = tf.reduce_mean(entropy)\n",
    "train_op = tf.train.AdamOptimizer(0.0002).minimize(cost)\n",
    "precision= tf.reduce_mean(tf.cast(tf.nn.in_top_k(logits,Y,1),tf.float32))"
   ]
  },
  {
   "cell_type": "code",
   "execution_count": null,
   "metadata": {
    "collapsed": true
   },
   "outputs": [],
   "source": [
    "sess = tf.InteractiveSession()\n",
    "tf.global_variables_initializer().run()\n",
    "batch=32\n",
    "for i in range(100):\n",
    "    trX,trY = shuffle(trX,trY)\n",
    "    for start, end in zip(range(0, len(trX), batch), range(batch, len(trX)+1, batch)):\n",
    "        sess.run(train_op, feed_dict={X: trX[start:end], Y: trY[start:end]})\n",
    "    print(i,sess.run(precision, feed_dict={X: teX,Y:teY}))"
   ]
  }
 ],
 "metadata": {
  "kernelspec": {
   "display_name": "Python 3",
   "language": "python",
   "name": "python3"
  },
  "language_info": {
   "codemirror_mode": {
    "name": "ipython",
    "version": 3
   },
   "file_extension": ".py",
   "mimetype": "text/x-python",
   "name": "python",
   "nbconvert_exporter": "python",
   "pygments_lexer": "ipython3",
   "version": "3.6.1"
  }
 },
 "nbformat": 4,
 "nbformat_minor": 2
}
