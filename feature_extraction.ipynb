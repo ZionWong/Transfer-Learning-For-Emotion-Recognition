{
 "cells": [
  {
   "cell_type": "code",
   "execution_count": 1,
   "metadata": {
    "collapsed": true
   },
   "outputs": [],
   "source": [
    "import pandas as pd\n",
    "import numpy as np\n",
    "import os\n",
    "import cPickle"
   ]
  },
  {
   "cell_type": "code",
   "execution_count": 2,
   "metadata": {
    "collapsed": true
   },
   "outputs": [],
   "source": [
    "casia_dir = './original_data/casia_all/988/'    ##casia数据库\n",
    "southeast_dir = './original_data/southeast/'    ##southeast为实验室自己录的数据库"
   ]
  },
  {
   "cell_type": "code",
   "execution_count": 3,
   "metadata": {
    "collapsed": true
   },
   "outputs": [],
   "source": [
    "cls = ['happy','anger','neutral','sad']   "
   ]
  },
  {
   "cell_type": "markdown",
   "metadata": {},
   "source": [
    "### feature_parse函数用于解析和处理opensmile得到的.arff数据，生成988维向量\n",
    "####  需要注意的是，由于.arff文件格式并不统一，所以在处理其他数据时，feature_parse函数*不能保证可以解析成功*，此部分接口建议根据需要进行重写 "
   ]
  },
  {
   "cell_type": "code",
   "execution_count": 7,
   "metadata": {
    "collapsed": true
   },
   "outputs": [],
   "source": [
    "def feature_parse(data_dir):\n",
    "    label = []\n",
    "    features = []\n",
    "    if 'lab' in data_dir:\n",
    "        for c in cls:\n",
    "            cls_dir = data_dir+c\n",
    "            for person_dir in os.listdir(cls_dir):\n",
    "                ccls_dir = cls_dir+'/'+person_dir\n",
    "                for f in os.listdir(ccls_dir):\n",
    "                    if 'arff' in f:\n",
    "                        file = open(ccls_dir+'/'+f,'r')\n",
    "                        content = file.read()\n",
    "                        pos = content.find('noname')\n",
    "                        #print content[pos+8:]\n",
    "                        content = content[pos+8:].split(',')\n",
    "                        #content[-1] = content[-1][:len(content[-1])-2]\n",
    "                        content = content[1:len(content)-1]\n",
    "                        for idx,n in enumerate(content):\n",
    "                            try:\n",
    "                                content[idx]=float(n)\n",
    "                            except BaseException:\n",
    "                                print ccls_dir+'/'+f\n",
    "                        features.append(content)\n",
    "                        label.append(c)\n",
    "    else:\n",
    "        for c in cls:\n",
    "            cls_dir = data_dir+c\n",
    "            for f in os.listdir(cls_dir):\n",
    "                if 'arff' in f:\n",
    "                    file = open(cls_dir+'/'+f,'r')\n",
    "                    content = file.read()\n",
    "                    pos = content.find('liveturn_0')\n",
    "                    content = content[pos+12:].split(',')\n",
    "                    content[-1] = content[-1][:len(content[-1])-2]\n",
    "                    content = content[1:]\n",
    "                    for idx,n in enumerate(content):\n",
    "                        try:\n",
    "                            content[idx]=float(n)\n",
    "                        except BaseException:\n",
    "                            content = content[:len(content)-1]\n",
    "                    features.append(content)\n",
    "                    label.append(c)\n",
    "    features = np.array(features)\n",
    "    return features,label"
   ]
  },
  {
   "cell_type": "code",
   "execution_count": 12,
   "metadata": {
    "collapsed": true
   },
   "outputs": [],
   "source": [
    "### 打包特征\n",
    "def pack(corpus_name,features,label):\n",
    "    data = {'data':features,'label':label}\n",
    "    with open('./feature/'+corpus_name+'_988_feature.pkl','w') as f:\n",
    "        cPickle.dump(data,f)"
   ]
  },
  {
   "cell_type": "code",
   "execution_count": 8,
   "metadata": {
    "collapsed": true
   },
   "outputs": [],
   "source": [
    "features,label = feature_parse(southeast_dir)"
   ]
  },
  {
   "cell_type": "code",
   "execution_count": 14,
   "metadata": {
    "collapsed": true
   },
   "outputs": [],
   "source": [
    "pack('southeast',features,label)"
   ]
  }
 ],
 "metadata": {
  "kernelspec": {
   "display_name": "Python 3",
   "language": "python",
   "name": "python3"
  },
  "language_info": {
   "codemirror_mode": {
    "name": "ipython",
    "version": 3
   },
   "file_extension": ".py",
   "mimetype": "text/x-python",
   "name": "python",
   "nbconvert_exporter": "python",
   "pygments_lexer": "ipython3",
   "version": "3.6.1"
  }
 },
 "nbformat": 4,
 "nbformat_minor": 2
}
